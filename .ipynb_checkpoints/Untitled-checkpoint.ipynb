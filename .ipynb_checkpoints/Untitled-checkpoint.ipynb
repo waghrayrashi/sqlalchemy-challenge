{
 "cells": [
  {
   "cell_type": "code",
   "execution_count": 1,
   "metadata": {},
   "outputs": [],
   "source": [
    "# Dependencies and Setup\n",
    "\n",
    "# SQLAlchemy\n",
    "import sqlalchemy\n",
    "    # To create an engine that can talk to the sqllite database\n",
    "    from sqlalchemy import create_engine, func\n",
    "    # To\n",
    "    from sqlalchemy.ext.automap import automap_base\n",
    "    from sqlalchemy.orm import Session\n",
    "\n",
    "\n",
    "# Pandas and NumPy\n",
    "import pandas as pd\n",
    "import numpy as np\n",
    "\n",
    "# Datetime\n",
    "import datetime as dt\n",
    "\n",
    "# Matplotlib\n",
    "%matplotlib inline\n",
    "    from matplotlib import style\n",
    "    style.use('fivethirtyeight')\n",
    "    # Pyplot\n",
    "    import matplotlib.pyplot as plt\n",
    "\n",
    "#"
   ]
  },
  {
   "cell_type": "code",
   "execution_count": null,
   "metadata": {},
   "outputs": [],
   "source": []
  }
 ],
 "metadata": {
  "kernelspec": {
   "display_name": "Python 3",
   "language": "python",
   "name": "python3"
  },
  "language_info": {
   "codemirror_mode": {
    "name": "ipython",
    "version": 3
   },
   "file_extension": ".py",
   "mimetype": "text/x-python",
   "name": "python",
   "nbconvert_exporter": "python",
   "pygments_lexer": "ipython3",
   "version": "3.7.6"
  }
 },
 "nbformat": 4,
 "nbformat_minor": 4
}
